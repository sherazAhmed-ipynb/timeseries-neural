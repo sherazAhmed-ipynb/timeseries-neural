{
 "cells": [
  {
   "cell_type": "code",
   "execution_count": 2,
   "id": "fc7fd7fb",
   "metadata": {},
   "outputs": [],
   "source": [
    "import yfinance as yf\n",
    "import pandas_datareader as pdr\n",
    "import pandas as pd\n",
    "from datetime import datetime\n",
    "\n",
    "#plotting imports\n",
    "import matplotlib.pyplot as plt\n",
    "import seaborn as sns\n",
    "import plotly.express as px\n",
    "import matplotlib.dates as mdates\n",
    "import matplotlib.ticker as mticker"
   ]
  },
  {
   "cell_type": "code",
   "execution_count": 3,
   "id": "a3a8736a",
   "metadata": {},
   "outputs": [
    {
     "name": "stdout",
     "output_type": "stream",
     "text": [
      "YF.download() has changed argument auto_adjust default to True\n"
     ]
    },
    {
     "name": "stderr",
     "output_type": "stream",
     "text": [
      "[*********************100%***********************]  1 of 1 completed\n"
     ]
    }
   ],
   "source": [
    "df = yf.download('TSLA' , start='2020-01-01', end=datetime.today().strftime('%Y-%m-%d'))"
   ]
  },
  {
   "cell_type": "code",
   "execution_count": 4,
   "id": "f8c382f2",
   "metadata": {},
   "outputs": [
    {
     "data": {
      "text/plain": [
       "pandas.core.frame.DataFrame"
      ]
     },
     "execution_count": 4,
     "metadata": {},
     "output_type": "execute_result"
    }
   ],
   "source": [
    "type(df)"
   ]
  },
  {
   "cell_type": "code",
   "execution_count": 5,
   "id": "059a1d0a",
   "metadata": {},
   "outputs": [
    {
     "data": {
      "text/html": [
       "<div>\n",
       "<style scoped>\n",
       "    .dataframe tbody tr th:only-of-type {\n",
       "        vertical-align: middle;\n",
       "    }\n",
       "\n",
       "    .dataframe tbody tr th {\n",
       "        vertical-align: top;\n",
       "    }\n",
       "\n",
       "    .dataframe thead tr th {\n",
       "        text-align: left;\n",
       "    }\n",
       "\n",
       "    .dataframe thead tr:last-of-type th {\n",
       "        text-align: right;\n",
       "    }\n",
       "</style>\n",
       "<table border=\"1\" class=\"dataframe\">\n",
       "  <thead>\n",
       "    <tr>\n",
       "      <th>Price</th>\n",
       "      <th>Close</th>\n",
       "      <th>High</th>\n",
       "      <th>Low</th>\n",
       "      <th>Open</th>\n",
       "      <th>Volume</th>\n",
       "    </tr>\n",
       "    <tr>\n",
       "      <th>Ticker</th>\n",
       "      <th>TSLA</th>\n",
       "      <th>TSLA</th>\n",
       "      <th>TSLA</th>\n",
       "      <th>TSLA</th>\n",
       "      <th>TSLA</th>\n",
       "    </tr>\n",
       "    <tr>\n",
       "      <th>Date</th>\n",
       "      <th></th>\n",
       "      <th></th>\n",
       "      <th></th>\n",
       "      <th></th>\n",
       "      <th></th>\n",
       "    </tr>\n",
       "  </thead>\n",
       "  <tbody>\n",
       "    <tr>\n",
       "      <th>2020-01-02</th>\n",
       "      <td>28.684000</td>\n",
       "      <td>28.713333</td>\n",
       "      <td>28.114000</td>\n",
       "      <td>28.299999</td>\n",
       "      <td>142981500</td>\n",
       "    </tr>\n",
       "    <tr>\n",
       "      <th>2020-01-03</th>\n",
       "      <td>29.534000</td>\n",
       "      <td>30.266666</td>\n",
       "      <td>29.128000</td>\n",
       "      <td>29.366667</td>\n",
       "      <td>266677500</td>\n",
       "    </tr>\n",
       "    <tr>\n",
       "      <th>2020-01-06</th>\n",
       "      <td>30.102667</td>\n",
       "      <td>30.104000</td>\n",
       "      <td>29.333332</td>\n",
       "      <td>29.364668</td>\n",
       "      <td>151995000</td>\n",
       "    </tr>\n",
       "    <tr>\n",
       "      <th>2020-01-07</th>\n",
       "      <td>31.270666</td>\n",
       "      <td>31.441999</td>\n",
       "      <td>30.224001</td>\n",
       "      <td>30.760000</td>\n",
       "      <td>268231500</td>\n",
       "    </tr>\n",
       "    <tr>\n",
       "      <th>2020-01-08</th>\n",
       "      <td>32.809334</td>\n",
       "      <td>33.232666</td>\n",
       "      <td>31.215334</td>\n",
       "      <td>31.580000</td>\n",
       "      <td>467164500</td>\n",
       "    </tr>\n",
       "    <tr>\n",
       "      <th>2020-01-09</th>\n",
       "      <td>32.089333</td>\n",
       "      <td>33.253334</td>\n",
       "      <td>31.524668</td>\n",
       "      <td>33.139999</td>\n",
       "      <td>426606000</td>\n",
       "    </tr>\n",
       "    <tr>\n",
       "      <th>2020-01-10</th>\n",
       "      <td>31.876667</td>\n",
       "      <td>32.329334</td>\n",
       "      <td>31.580000</td>\n",
       "      <td>32.119331</td>\n",
       "      <td>194392500</td>\n",
       "    </tr>\n",
       "    <tr>\n",
       "      <th>2020-01-13</th>\n",
       "      <td>34.990665</td>\n",
       "      <td>35.042000</td>\n",
       "      <td>32.799999</td>\n",
       "      <td>32.900002</td>\n",
       "      <td>397764000</td>\n",
       "    </tr>\n",
       "    <tr>\n",
       "      <th>2020-01-14</th>\n",
       "      <td>35.861332</td>\n",
       "      <td>36.493999</td>\n",
       "      <td>34.993332</td>\n",
       "      <td>36.284000</td>\n",
       "      <td>434943000</td>\n",
       "    </tr>\n",
       "    <tr>\n",
       "      <th>2020-01-15</th>\n",
       "      <td>34.566666</td>\n",
       "      <td>35.855999</td>\n",
       "      <td>34.452667</td>\n",
       "      <td>35.317333</td>\n",
       "      <td>260532000</td>\n",
       "    </tr>\n",
       "  </tbody>\n",
       "</table>\n",
       "</div>"
      ],
      "text/plain": [
       "Price           Close       High        Low       Open     Volume\n",
       "Ticker           TSLA       TSLA       TSLA       TSLA       TSLA\n",
       "Date                                                             \n",
       "2020-01-02  28.684000  28.713333  28.114000  28.299999  142981500\n",
       "2020-01-03  29.534000  30.266666  29.128000  29.366667  266677500\n",
       "2020-01-06  30.102667  30.104000  29.333332  29.364668  151995000\n",
       "2020-01-07  31.270666  31.441999  30.224001  30.760000  268231500\n",
       "2020-01-08  32.809334  33.232666  31.215334  31.580000  467164500\n",
       "2020-01-09  32.089333  33.253334  31.524668  33.139999  426606000\n",
       "2020-01-10  31.876667  32.329334  31.580000  32.119331  194392500\n",
       "2020-01-13  34.990665  35.042000  32.799999  32.900002  397764000\n",
       "2020-01-14  35.861332  36.493999  34.993332  36.284000  434943000\n",
       "2020-01-15  34.566666  35.855999  34.452667  35.317333  260532000"
      ]
     },
     "execution_count": 5,
     "metadata": {},
     "output_type": "execute_result"
    }
   ],
   "source": [
    "df.head(10)"
   ]
  },
  {
   "cell_type": "code",
   "execution_count": 6,
   "id": "98bc9bc8",
   "metadata": {},
   "outputs": [
    {
     "data": {
      "text/html": [
       "<div>\n",
       "<style scoped>\n",
       "    .dataframe tbody tr th:only-of-type {\n",
       "        vertical-align: middle;\n",
       "    }\n",
       "\n",
       "    .dataframe tbody tr th {\n",
       "        vertical-align: top;\n",
       "    }\n",
       "\n",
       "    .dataframe thead tr th {\n",
       "        text-align: left;\n",
       "    }\n",
       "\n",
       "    .dataframe thead tr:last-of-type th {\n",
       "        text-align: right;\n",
       "    }\n",
       "</style>\n",
       "<table border=\"1\" class=\"dataframe\">\n",
       "  <thead>\n",
       "    <tr>\n",
       "      <th>Price</th>\n",
       "      <th>Close</th>\n",
       "      <th>High</th>\n",
       "      <th>Low</th>\n",
       "      <th>Open</th>\n",
       "      <th>Volume</th>\n",
       "    </tr>\n",
       "    <tr>\n",
       "      <th>Ticker</th>\n",
       "      <th>TSLA</th>\n",
       "      <th>TSLA</th>\n",
       "      <th>TSLA</th>\n",
       "      <th>TSLA</th>\n",
       "      <th>TSLA</th>\n",
       "    </tr>\n",
       "    <tr>\n",
       "      <th>Date</th>\n",
       "      <th></th>\n",
       "      <th></th>\n",
       "      <th></th>\n",
       "      <th></th>\n",
       "      <th></th>\n",
       "    </tr>\n",
       "  </thead>\n",
       "  <tbody>\n",
       "    <tr>\n",
       "      <th>2025-03-28</th>\n",
       "      <td>263.549988</td>\n",
       "      <td>276.100006</td>\n",
       "      <td>260.570007</td>\n",
       "      <td>275.579987</td>\n",
       "      <td>123809400</td>\n",
       "    </tr>\n",
       "    <tr>\n",
       "      <th>2025-03-31</th>\n",
       "      <td>259.160004</td>\n",
       "      <td>260.559998</td>\n",
       "      <td>243.360001</td>\n",
       "      <td>249.309998</td>\n",
       "      <td>134008900</td>\n",
       "    </tr>\n",
       "    <tr>\n",
       "      <th>2025-04-01</th>\n",
       "      <td>268.459991</td>\n",
       "      <td>277.450012</td>\n",
       "      <td>259.250000</td>\n",
       "      <td>263.799988</td>\n",
       "      <td>146486900</td>\n",
       "    </tr>\n",
       "    <tr>\n",
       "      <th>2025-04-02</th>\n",
       "      <td>282.760010</td>\n",
       "      <td>284.989990</td>\n",
       "      <td>251.270004</td>\n",
       "      <td>254.600006</td>\n",
       "      <td>212787800</td>\n",
       "    </tr>\n",
       "    <tr>\n",
       "      <th>2025-04-03</th>\n",
       "      <td>267.279999</td>\n",
       "      <td>276.299988</td>\n",
       "      <td>261.510010</td>\n",
       "      <td>265.290009</td>\n",
       "      <td>136174300</td>\n",
       "    </tr>\n",
       "    <tr>\n",
       "      <th>2025-04-04</th>\n",
       "      <td>239.429993</td>\n",
       "      <td>261.000000</td>\n",
       "      <td>236.000000</td>\n",
       "      <td>255.380005</td>\n",
       "      <td>181229400</td>\n",
       "    </tr>\n",
       "    <tr>\n",
       "      <th>2025-04-07</th>\n",
       "      <td>233.289993</td>\n",
       "      <td>252.000000</td>\n",
       "      <td>214.250000</td>\n",
       "      <td>223.779999</td>\n",
       "      <td>183453800</td>\n",
       "    </tr>\n",
       "    <tr>\n",
       "      <th>2025-04-08</th>\n",
       "      <td>221.860001</td>\n",
       "      <td>250.440002</td>\n",
       "      <td>217.800003</td>\n",
       "      <td>245.000000</td>\n",
       "      <td>171603500</td>\n",
       "    </tr>\n",
       "    <tr>\n",
       "      <th>2025-04-09</th>\n",
       "      <td>272.200012</td>\n",
       "      <td>274.690002</td>\n",
       "      <td>223.880005</td>\n",
       "      <td>224.690002</td>\n",
       "      <td>219433400</td>\n",
       "    </tr>\n",
       "    <tr>\n",
       "      <th>2025-04-10</th>\n",
       "      <td>252.399994</td>\n",
       "      <td>262.489990</td>\n",
       "      <td>239.330002</td>\n",
       "      <td>260.000000</td>\n",
       "      <td>180875500</td>\n",
       "    </tr>\n",
       "  </tbody>\n",
       "</table>\n",
       "</div>"
      ],
      "text/plain": [
       "Price            Close        High         Low        Open     Volume\n",
       "Ticker            TSLA        TSLA        TSLA        TSLA       TSLA\n",
       "Date                                                                 \n",
       "2025-03-28  263.549988  276.100006  260.570007  275.579987  123809400\n",
       "2025-03-31  259.160004  260.559998  243.360001  249.309998  134008900\n",
       "2025-04-01  268.459991  277.450012  259.250000  263.799988  146486900\n",
       "2025-04-02  282.760010  284.989990  251.270004  254.600006  212787800\n",
       "2025-04-03  267.279999  276.299988  261.510010  265.290009  136174300\n",
       "2025-04-04  239.429993  261.000000  236.000000  255.380005  181229400\n",
       "2025-04-07  233.289993  252.000000  214.250000  223.779999  183453800\n",
       "2025-04-08  221.860001  250.440002  217.800003  245.000000  171603500\n",
       "2025-04-09  272.200012  274.690002  223.880005  224.690002  219433400\n",
       "2025-04-10  252.399994  262.489990  239.330002  260.000000  180875500"
      ]
     },
     "execution_count": 6,
     "metadata": {},
     "output_type": "execute_result"
    }
   ],
   "source": [
    "df.tail(10)"
   ]
  },
  {
   "cell_type": "code",
   "execution_count": 7,
   "id": "6230b4f6",
   "metadata": {},
   "outputs": [
    {
     "data": {
      "image/png": "[encoded data removed]",
      "text/plain": [
       "<Figure size 1200x600 with 1 Axes>"
      ]
     },
     "metadata": {},
     "output_type": "display_data"
    }
   ],
   "source": [
    "df['High'].plot(figsize=(12,6), color='blue', label='High', alpha=0.5)\n",
    "plt.show()"
   ]
  },
  {
   "cell_type": "code",
   "execution_count": 8,
   "id": "611c26af",
   "metadata": {},
   "outputs": [
    {
     "data": {
      "text/plain": [
       "MultiIndex([( 'Close', 'TSLA'),\n",
       "            (  'High', 'TSLA'),\n",
       "            (   'Low', 'TSLA'),\n",
       "            (  'Open', 'TSLA'),\n",
       "            ('Volume', 'TSLA')],\n",
       "           names=['Price', 'Ticker'])"
      ]
     },
     "execution_count": 8,
     "metadata": {},
     "output_type": "execute_result"
    }
   ],
   "source": [
    "df.columns"
   ]
  },
  {
   "cell_type": "code",
   "execution_count": 9,
   "id": "0b45d001",
   "metadata": {},
   "outputs": [
    {
     "name": "stdout",
     "output_type": "stream",
     "text": [
      "<class 'pandas.core.frame.DataFrame'>\n",
      "DatetimeIndex: 1326 entries, 2020-01-02 to 2025-04-10\n",
      "Data columns (total 5 columns):\n",
      " #   Column          Non-Null Count  Dtype  \n",
      "---  ------          --------------  -----  \n",
      " 0   (Close, TSLA)   1326 non-null   float64\n",
      " 1   (High, TSLA)    1326 non-null   float64\n",
      " 2   (Low, TSLA)     1326 non-null   float64\n",
      " 3   (Open, TSLA)    1326 non-null   float64\n",
      " 4   (Volume, TSLA)  1326 non-null   int64  \n",
      "dtypes: float64(4), int64(1)\n",
      "memory usage: 62.2 KB\n"
     ]
    }
   ],
   "source": [
    "df.info()"
   ]
  },
  {
   "cell_type": "code",
   "execution_count": 11,
   "id": "ed548802",
   "metadata": {},
   "outputs": [
    {
     "data": {
      "text/plain": [
       "<Axes: xlabel='Date'>"
      ]
     },
     "execution_count": 11,
     "metadata": {},
     "output_type": "execute_result"
    },
    {
     "data": {
      "image/png": "[encoded data removed]",
      "text/plain": [
       "<Figure size 1200x600 with 1 Axes>"
      ]
     },
     "metadata": {},
     "output_type": "display_data"
    }
   ],
   "source": [
    "# x limit an y limit\n",
    "df['High'].plot(xlim=['2020-01-01', '2021-01-01'], ylim=[0, 400], figsize=(12,6), color='blue', label='High', alpha=0.5)"
   ]
  },
  {
   "cell_type": "code",
   "execution_count": 12,
   "id": "0090eff4",
   "metadata": {},
   "outputs": [
    {
     "data": {
      "text/plain": [
       "DatetimeIndex(['2020-01-02', '2020-01-03', '2020-01-06', '2020-01-07',\n",
       "               '2020-01-08', '2020-01-09', '2020-01-10', '2020-01-13',\n",
       "               '2020-01-14', '2020-01-15',\n",
       "               ...\n",
       "               '2025-03-28', '2025-03-31', '2025-04-01', '2025-04-02',\n",
       "               '2025-04-03', '2025-04-04', '2025-04-07', '2025-04-08',\n",
       "               '2025-04-09', '2025-04-10'],\n",
       "              dtype='datetime64[ns]', name='Date', length=1326, freq=None)"
      ]
     },
     "execution_count": 12,
     "metadata": {},
     "output_type": "execute_result"
    }
   ],
   "source": [
    "df.index"
   ]
  }
 ],
 "metadata": {
  "kernelspec": {
   "display_name": "tf_env",
   "language": "python",
   "name": "python3"
  },
  "language_info": {
   "codemirror_mode": {
    "name": "ipython",
    "version": 3
   },
   "file_extension": ".py",
   "mimetype": "text/x-python",
   "name": "python",
   "nbconvert_exporter": "python",
   "pygments_lexer": "ipython3",
   "version": "3.10.16"
  }
 },
 "nbformat": 4,
 "nbformat_minor": 5
}
